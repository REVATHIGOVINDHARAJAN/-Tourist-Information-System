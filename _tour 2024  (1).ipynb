{
 "cells": [
  {
   "cell_type": "markdown",
   "id": "b66b6e63-e644-4667-9c00-fbdeeba7e9b3",
   "metadata": {},
   "source": [
    "# Tourist Information  System"
   ]
  },
  {
   "cell_type": "code",
   "execution_count": null,
   "id": "1b684b13-4aac-4ab2-82bd-ac28cc88a521",
   "metadata": {},
   "outputs": [
    {
     "name": "stdout",
     "output_type": "stream",
     "text": [
      "Welcome to the Tourist Information System for Popular Destinations in India.\n",
      "Enter destination name to get tourist information.\n",
      "Available destinations: Agra, Jaipur, Goa, Kerala, Manali, Leh-Ladakh, Vijayawada, Tawang, Kaziranga, Bodh Gaya, Jagdalpur, Ahmedabad, Chandigarh, Raipur, Delhi, Panaji, Shimla, Srinagar, Ranchi, Bengaluru, Thiruvananthapuram, Bhopal, Mumbai, Imphal, Shillong, Aizawl, Kohima, Bhubaneswar, Puducherry, Amritsar, Gangtok, Chennai, Hyderabad, Lucknow, Kolkata\n"
     ]
    },
    {
     "name": "stdin",
     "output_type": "stream",
     "text": [
      "Enter destination name (or type 'exit' to quit):  Raipur\n"
     ]
    },
    {
     "name": "stdout",
     "output_type": "stream",
     "text": [
      "Tourist Information for Raipur:\n",
      "Attractions: Mahant Ghasidas Museum, Nandavan Garden, Burha Talab\n",
      "Activities: Sightseeing, Shopping, Cultural Tours\n",
      "Transportation: Bus, Taxi, Car Rental\n",
      "\n"
     ]
    },
    {
     "name": "stdin",
     "output_type": "stream",
     "text": [
      "Enter destination name (or type 'exit' to quit):  goa\n"
     ]
    },
    {
     "name": "stdout",
     "output_type": "stream",
     "text": [
      "Destination not found.\n"
     ]
    },
    {
     "name": "stdin",
     "output_type": "stream",
     "text": [
      "Enter destination name (or type 'exit' to quit):  old goa charches\n"
     ]
    },
    {
     "name": "stdout",
     "output_type": "stream",
     "text": [
      "Destination not found.\n"
     ]
    },
    {
     "name": "stdin",
     "output_type": "stream",
     "text": [
      "Enter destination name (or type 'exit' to quit):  Goa\n"
     ]
    },
    {
     "name": "stdout",
     "output_type": "stream",
     "text": [
      "Tourist Information for Goa:\n",
      "Attractions: Beaches of North Goa, Old Goa Churches, Dudhsagar Waterfalls\n",
      "Activities: Water Sports, Beach Parties, Dolphin Watching\n",
      "Transportation: Bus, Taxi, Scooter\n",
      "\n"
     ]
    }
   ],
   "source": [
    "class Destination:\n",
    "    def __init__(self, name, attractions=None, activities=None, transportation=None):\n",
    "        self.name = name\n",
    "        self.attractions = attractions or []\n",
    "        self.activities = activities or []\n",
    "        self.transportation = transportation or []\n",
    "\n",
    "    def __str__(self):\n",
    "        return self.name\n",
    "\n",
    "class TouristInformationSystem:\n",
    "    def __init__(self):\n",
    "        self.destinations = {}\n",
    "\n",
    "    def add_destination(self, destination):\n",
    "        self.destinations[destination.name] = destination\n",
    "\n",
    "    def get_destination_info(self, destination_name):\n",
    "        destination = self.destinations.get(destination_name)\n",
    "        if not destination:\n",
    "            return \"Destination not found.\"\n",
    "        info = f\"Tourist Information for {destination_name}:\\n\"\n",
    "        info += f\"Attractions: {', '.join(destination.attractions)}\\n\"\n",
    "        info += f\"Activities: {', '.join(destination.activities)}\\n\"----\n",
    "        info += f\"Transportation: {', '.join(destination.transportation)}\\n\"\n",
    "        return info\n",
    "\n",
    "def main():\n",
    "    tourist_info = TouristInformationSystem()\n",
    "\n",
    "    destinations_data = {\n",
    "        \"Agra\": {\"attractions\": [\"Taj Mahal\", \"Agra Fort\", \"Fatehpur Sikri\"],\n",
    "                 \"activities\": [\"Sightseeing\", \"Heritage Walks\", \"Shopping\"],\n",
    "                 \"transportation\": [\"Bus\", \"Train\", \"Taxi\"]},\n",
    "        \"Jaipur\": {\"attractions\": [\"Amber Fort\", \"City Palace\", \"Hawa Mahal\"],\n",
    "                   \"activities\": [\"Elephant Ride\", \"Shopping\", \"Cultural Shows\"],\n",
    "                   \"transportation\": [\"Bus\", \"Train\", \"Taxi\"]},\n",
    "        \"Goa\": {\"attractions\": [\"Beaches of North Goa\", \"Old Goa Churches\", \"Dudhsagar Waterfalls\"],\n",
    "                \"activities\": [\"Water Sports\", \"Beach Parties\", \"Dolphin Watching\"],\n",
    "                \"transportation\": [\"Bus\", \"Taxi\", \"Scooter\"]},\n",
    "        \"Kerala\": {\"attractions\": [\"Backwaters of Alleppey\", \"Munnar Tea Gardens\", \"Athirapally Waterfalls\"],\n",
    "                   \"activities\": [\"Houseboat Cruise\", \"Ayurvedic Spa\", \"Wildlife Safari\"],\n",
    "                   \"transportation\": [\"Bus\", \"Train\", \"Taxi\"]},\n",
    "        \"Manali\": {\"attractions\": [\"Rohtang Pass\", \"Solang Valley\", \"Hadimba Temple\"],\n",
    "                   \"activities\": [\"Skiing\", \"Paragliding\", \"Trekking\"],\n",
    "                   \"transportation\": [\"Bus\", \"Taxi\", \"Car Rental\"]},\n",
    "        \"Leh-Ladakh\": {\"attractions\": [\"Pangong Lake\", \"Nubra Valley\", \"Khardung La Pass\"],\n",
    "                       \"activities\": [\"Biking\", \"Camel Safari\", \"Monastery Visits\"],\n",
    "                       \"transportation\": [\"Bus\", \"Taxi\", \"Motorcycle\"]},\n",
    "        \"Vijayawada\": {\"attractions\": [\"Kanaka Durga Temple\", \"Prakasam Barrage\", \"Undavalli Caves\"],\n",
    "                       \"activities\": [\"Pilgrimage\", \"Boating\", \"Heritage Walks\"],\n",
    "                       \"transportation\": [\"Bus\", \"Train\", \"Taxi\"]},\n",
    "        \"Tawang\": {\"attractions\": [\"Tawang Monastery\", \"Sela Pass\", \"Madhuri Lake\"],\n",
    "                   \"activities\": [\"Trekking\", \"Monastery Visits\", \"Sightseeing\"],\n",
    "                   \"transportation\": [\"Bus\", \"Taxi\", \"Helicopter\"]},\n",
    "        \"Kaziranga\": {\"attractions\": [\"Kaziranga National Park\", \"Orang National Park\", \"Tea Gardens\"],\n",
    "                      \"activities\": [\"Wildlife Safari\", \"Elephant Ride\", \"Bird Watching\"],\n",
    "                      \"transportation\": [\"Bus\", \"Taxi\", \"Car Rental\"]},\n",
    "        \"Bodh Gaya\": {\"attractions\": [\"Mahabodhi Temple\", \"Great Buddha Statue\", \"Bodhi Tree\"],\n",
    "                      \"activities\": [\"Pilgrimage\", \"Meditation\", \"Heritage Walks\"],\n",
    "                      \"transportation\": [\"Bus\", \"Train\", \"Taxi\"]},\n",
    "        \"Jagdalpur\": {\"attractions\": [\"Chitrakote Waterfalls\", \"Kanger Valley National Park\", \"Bastar Palace\"],\n",
    "                      \"activities\": [\"Wildlife Safari\", \"Boating\", \"Cultural Tours\"],\n",
    "                      \"transportation\": [\"Bus\", \"Taxi\", \"Car Rental\"]},\n",
    "        \"Ahmedabad\": {\"attractions\": [\"Sabarmati Ashram\", \"Kankaria Lake\", \"Adalaj Stepwell\"],\n",
    "                      \"activities\": [\"Heritage Walks\", \"Shopping\", \"Cultural Tours\"],\n",
    "                      \"transportation\": [\"Bus\", \"Train\", \"Taxi\"]},\n",
    "        \"Chandigarh\": {\"attractions\": [\"Rock Garden\", \"Sukhna Lake\", \"Rose Garden\"],\n",
    "                       \"activities\": [\"Boating\", \"Sightseeing\", \"Picnics\"],\n",
    "                       \"transportation\": [\"Bus\", \"Taxi\", \"Car Rental\"]},\n",
    "        \"Raipur\": {\"attractions\": [\"Mahant Ghasidas Museum\", \"Nandavan Garden\", \"Burha Talab\"],\n",
    "                   \"activities\": [\"Sightseeing\", \"Shopping\", \"Cultural Tours\"],\n",
    "                   \"transportation\": [\"Bus\", \"Taxi\", \"Car Rental\"]},\n",
    "        \"Delhi\": {\"attractions\": [\"Red Fort\", \"Qutub Minar\", \"India Gate\"],\n",
    "                  \"activities\": [\"Sightseeing\", \"Shopping\", \"Heritage Walks\"],\n",
    "                  \"transportation\": [\"Bus\", \"Metro\", \"Taxi\"]},\n",
    "        \"Panaji\": {\"attractions\": [\"Basilica of Bom Jesus\", \"Se Cathedral\", \"Miramar Beach\"],\n",
    "                   \"activities\": [\"Sightseeing\", \"Beach Activities\", \"Shopping\"],\n",
    "                   \"transportation\": [\"Bus\", \"Taxi\", \"Scooter\"]},\n",
    "        \"Shimla\": {\"attractions\": [\"The Ridge\", \"Jakhoo Temple\", \"Mall Road\"],\n",
    "                   \"activities\": [\"Trekking\", \"Shopping\", \"Sightseeing\"],\n",
    "                   \"transportation\": [\"Bus\", \"Taxi\", \"Car Rental\"]},\n",
    "        \"Srinagar\": {\"attractions\": [\"Dal Lake\", \"Mughal Gardens\", \"Shankaracharya Temple\"],\n",
    "                     \"activities\": [\"Shikara Ride\", \"Houseboat Stay\", \"Trekking\"],\n",
    "                     \"transportation\": [\"Bus\", \"Taxi\", \"Shikara\"]},\n",
    "        \"Ranchi\": {\"attractions\": [\"Dassam Falls\", \"Jonha Falls\", \"Rock Garden\"],\n",
    "                   \"activities\": [\"Sightseeing\", \"Trekking\", \"Picnics\"],\n",
    "                   \"transportation\": [\"Bus\", \"Taxi\", \"Car Rental\"]},\n",
    "        \"Bengaluru\": {\"attractions\": [\"Bangalore Palace\", \"Lalbagh Botanical Garden\", \"Cubbon Park\"],\n",
    "                      \"activities\": [\"Sightseeing\", \"Shopping\", \"Cultural Tours\"],\n",
    "                      \"transportation\": [\"Bus\", \"Metro\", \"Taxi\"]},\n",
    "        \"Thiruvananthapuram\": {\"attractions\": [\"Sree Padmanabhaswamy Temple\", \"Kovalam Beach\", \"Napier Museum\"],\n",
    "                               \"activities\": [\"Sightseeing\", \"Beach Activities\", \"Cultural Tours\"],\n",
    "                               \"transportation\": [\"Bus\", \"Taxi\", \"Auto Rickshaw\"]},\n",
    "        \"Bhopal\": {\"attractions\": [\"Upper Lake\", \"Taj-ul-Masajid\", \"Bharat Bhavan\"],\n",
    "                   \"activities\": [\"Boating\", \"Sightseeing\", \"Cultural Tours\"],\n",
    "                   \"transportation\": [\"Bus\", \"Taxi\", \"Car Rental\"]},\n",
    "        \"Mumbai\": {\"attractions\": [\"Gateway of India\", \"Marine Drive\", \"Elephanta Caves\"],\n",
    "                   \"activities\": [\"Sightseeing\", \"Shopping\", \"Beach Activities\"],\n",
    "                   \"transportation\": [\"Bus\", \"Train\", \"Taxi\"]},\n",
    "        \"Imphal\": {\"attractions\": [\"Loktak Lake\", \"Kangla Fort\", \"Shree Govindajee Temple\"],\n",
    "                   \"activities\": [\"Boating\", \"Sightseeing\", \"Cultural Tours\"],\n",
    "                   \"transportation\": [\"Bus\", \"Taxi\", \"Car Rental\"]},\n",
    "        \"Shillong\": {\"attractions\": [\"Elephant Falls\", \"Shillong Peak\", \"Umiam Lake\"],\n",
    "                     \"activities\": [\"Trekking\", \"Boating\", \"Sightseeing\"],\n",
    "                     \"transportation\": [\"Bus\", \"Taxi\", \"Car Rental\"]},\n",
    "        \"Aizawl\": {\"attractions\": [\"Durtlang Hills\", \"Reiek\", \"Solomon's Temple\"],\n",
    "                   \"activities\": [\"Trekking\", \"Sightseeing\", \"Cultural Tours\"],\n",
    "                   \"transportation\": [\"Bus\", \"Taxi\", \"Car Rental\"]},\n",
    "        \"Kohima\": {\"attractions\": [\"Kohima War Cemetery\", \"Kisama Heritage Village\", \"Dzükou Valley\"],\n",
    "                   \"activities\": [\"Trekking\", \"Cultural Tours\", \"Sightseeing\"],\n",
    "                   \"transportation\": [\"Bus\", \"Taxi\", \"Car Rental\"]},\n",
    "        \"Bhubaneswar\": {\"attractions\": [\"Lingaraj Temple\", \"Nandankanan Zoo\", \"Udayagiri and Khandagiri Caves\"],\n",
    "                        \"activities\": [\"Pilgrimage\", \"Sightseeing\", \"Wildlife Tours\"],\n",
    "                        \"transportation\": [\"Bus\", \"Taxi\", \"Auto Rickshaw\"]},\n",
    "        \"Puducherry\": {\"attractions\": [\"Auroville\", \"Promenade Beach\", \"Paradise Beach\"],\n",
    "                       \"activities\": [\"Beach Activities\", \"Meditation\", \"Sightseeing\"],\n",
    "                       \"transportation\": [\"Bus\", \"Taxi\", \"Bicycle\"]},\n",
    "        \"Amritsar\": {\"attractions\": [\"Golden Temple\", \"Jallianwala Bagh\", \"Wagah Border\"],\n",
    "                     \"activities\": [\"Pilgrimage\", \"Sightseeing\", \"Shopping\"],\n",
    "                     \"transportation\": [\"Bus\", \"Taxi\", \"Auto Rickshaw\"]},\n",
    "        \"Gangtok\": {\"attractions\": [\"Tsomgo Lake\", \"Rumtek Monastery\", \"Nathula Pass\"],\n",
    "                    \"activities\": [\"Trekking\", \"Sightseeing\", \"Shopping\"],\n",
    "                    \"transportation\": [\"Bus\", \"Taxi\", \"Car Rental\"]},\n",
    "        \"Chennai\": {\"attractions\": [\"Marina Beach\", \"Fort St. George\", \"Kapaleeshwarar Temple\"],\n",
    "                    \"activities\": [\"Beach Activities\", \"Sightseeing\", \"Shopping\"],\n",
    "                    \"transportation\": [\"Bus\", \"Train\", \"Taxi\"]},\n",
    "        \"Hyderabad\": {\"attractions\": [\"Charminar\", \"Golconda Fort\", \"Hussain Sagar Lake\"],\n",
    "                      \"activities\": [\"Sightseeing\", \"Shopping\", \"Boating\"],\n",
    "                      \"transportation\": [\"Bus\", \"Train\", \"Taxi\"]},\n",
    "        \"Lucknow\": {\"attractions\": [\"Bara Imambara\", \"Rumi Darwaza\", \"Chota Imambara\"],\n",
    "                    \"activities\": [\"Sightseeing\", \"Shopping\", \"Cultural Tours\"],\n",
    "                    \"transportation\": [\"Bus\", \"Taxi\", \"Auto Rickshaw\"]},\n",
    "        \"Kolkata\": {\"attractions\": [\"Victoria Memorial\", \"Howrah Bridge\", \"Dakshineswar Kali Temple\"],\n",
    "                    \"activities\": [\"Sightseeing\", \"Shopping\", \"Cultural Tours\"],\n",
    "                    \"transportation\": [\"Bus\", \"Metro\", \"Taxi\"]},\n",
    "    }\n",
    "\n",
    "    for destination_name, destination_data in destinations_data.items():\n",
    "        destination = Destination(name=destination_name,\n",
    "                                  attractions=destination_data.get(\"attractions\", []),\n",
    "                                  activities=destination_data.get(\"activities\", []),\n",
    "                                  transportation=destination_data.get(\"transportation\", []))\n",
    "        tourist_info.add_destination(destination)\n",
    "\n",
    "    print(\"Welcome to the Tourist Information System for Popular Destinations in India.\")\n",
    "    print(\"Enter destination name to get tourist information.\")\n",
    "    print(\"Available destinations: \" + \", \".join(destinations_data.keys()))\n",
    "    \n",
    "    try:\n",
    "        while True:\n",
    "            destination_name = input(\"Enter destination name (or type 'exit' to quit): \")\n",
    "            if destination_name.lower() == 'exit':\n",
    "                print(\"Exiting the system.\")\n",
    "                break\n",
    "            print(tourist_info.get_destination_info(destination_name))\n",
    "    except (KeyboardInterrupt, EOFError):\n",
    "        print(\"\\nExiting the system.\")\n",
    "    except Exception as e:\n",
    "        print(f\"An unexpected error occurred: {e}\")\n",
    "\n",
    "if __name__ == \"__main__\":\n",
    "    main()\n"
   ]
  },
  {
   "cell_type": "code",
   "execution_count": null,
   "id": "570f15d5-db73-41b9-ab71-64efb64102eb",
   "metadata": {},
   "outputs": [],
   "source": []
  },
  {
   "cell_type": "code",
   "execution_count": null,
   "id": "da526454-5437-4313-a91b-ec02da617270",
   "metadata": {},
   "outputs": [],
   "source": []
  }
 ],
 "metadata": {
  "kernelspec": {
   "display_name": "Python 3 (ipykernel)",
   "language": "python",
   "name": "python3"
  },
  "language_info": {
   "codemirror_mode": {
    "name": "ipython",
    "version": 3
   },
   "file_extension": ".py",
   "mimetype": "text/x-python",
   "name": "python",
   "nbconvert_exporter": "python",
   "pygments_lexer": "ipython3",
   "version": "3.11.7"
  }
 },
 "nbformat": 4,
 "nbformat_minor": 5
}
